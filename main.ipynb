{
 "cells": [
  {
   "cell_type": "markdown",
   "id": "21ba52ef",
   "metadata": {},
   "source": [
    "# Seminar on Software Developmenet Tools\n",
    "The first sections will be about quality, and the last one will deal with design."
   ]
  },
  {
   "cell_type": "markdown",
   "id": "ea91d03c",
   "metadata": {},
   "source": [
    "## 0. Coding Environments\n",
    "Running python from the terminal, running ipython, running jupyter notebook. There's a place for interactive computing. Do not marry your tools: don't use a hammer with a screw."
   ]
  },
  {
   "cell_type": "markdown",
   "id": "77223277",
   "metadata": {},
   "source": [
    "## 1. Debbuging\n",
    "Go through the examples on `./debugging`; follow the instructions on the `README.md` if needed."
   ]
  },
  {
   "cell_type": "markdown",
   "id": "776c2aa3",
   "metadata": {},
   "source": [
    "## 2. Virtual Environment\n",
    "Show `virtualenv`, `virtualenvwrapper` and difference in numpy versions with this repo and `complex_opinion`.\n",
    "\n",
    "Use:\n",
    "```bash\n",
    "pip show numpy | grep ^Version\n",
    "```\n",
    "\n",
    "**Note:** The caret `^` in the command is a *regular expression anchor* that matches the *start of a line*, i.e., in this case `grep ^Version` matches any line that starts with the word `Version`.\n",
    "\n",
    "The idea is to show that we can have different versions of `numpy` coexisting in our computer thanks to having multiple virtual environments."
   ]
  },
  {
   "cell_type": "markdown",
   "id": "406321c4",
   "metadata": {},
   "source": [
    "## 2. Version Control\n",
    "Show Git with `complex_opinion`. Delete some piece of code and show `status`, `diff`, and `restore`. Mention `log`, `pull`, and `branch`, and the fact that you can always go back to any point in history. Mention it's joint use with LaTeX for writing a paper, in particular the use of branches and `diff` for seeing changes and merging if agreed."
   ]
  },
  {
   "cell_type": "markdown",
   "id": "b062d83f",
   "metadata": {},
   "source": [
    "## 3. GitHub\n",
    "A Hub for Git repositories. That's how we can get other people's code and colaborate between us (think of papers). Show PyPI too."
   ]
  },
  {
   "cell_type": "markdown",
   "id": "4e47d12f",
   "metadata": {},
   "source": [
    "## 4. Packing\n",
    "Useful for having your code available as third-party packages (explain editable installation: `pip install --editable .`), publishing in PyPI, and for **portability**, e.g., running in a cluster. In this last case, we just install micromamba, create the invironment, and do `pip install paquete.whl`. Show `dist` directory in `tumorsphere_culture`.\n",
    "\n",
    "For packing:\n",
    "1. Install everything necessary `pip install --upgrade build`\n",
    "2. Build with `python3 -m build`\n",
    "\n",
    "This will generate the files for distribution: `.tar.gz` for source distribution and `.whl` for built distribution.\n",
    "\n",
    "Explain:\n",
    "- `MANIFEST.in`\n",
    "- `pyproject.toml`, in particular the part where we declare the dependencies\n",
    "\n",
    "Note: if you're not distributing (and therefore maintaining) the software, it always a good idea to do a `pip freeze > requirements.txt` to be able to go back to the original package versions."
   ]
  },
  {
   "cell_type": "markdown",
   "id": "ef3c6325",
   "metadata": {},
   "source": [
    "## 5. Testing\n",
    "It's useless as quality assurance that “you wrote the code yourself and know how it works”. How do **I** know that it works? Tests are things that we check about the behavior of our code. By seeing which tests pass, I can get some level of assurance on the correctness of the code.\n",
    "\n",
    "Show example in the `testing` directory: `pytest -v test_math_utils.py`. This are examples of “unit tests”, tests that check a single instance of a property.\n",
    "\n",
    "Integration tests check the fuctioning of the system as a hole, not just of a single part. E.g., I could have checked that both my `Cell` and `Culture` objects are instanced correctly, but have my simulation do something wrong with them. See [meme](https://images.app.goo.gl/vH7UYtYb4a9cDsrM8).\n",
    "\n",
    "An example of an integration test could be to reproduce a previous result which we trust. Show tests in `complex_opinion`. We check single properties of errors that should be rise when inappropriately instantiating objects (unit tests), but then we check that Mahdi's results are reproduced (integration tests). Use: `pytest -v tests/ --cov complex_opinion/ -m \"not slow\"`.\n",
    "\n",
    "Note that the deselected tests are parametrized (explain that).\n",
    "\n",
    "### Coverage\n",
    "In general, one should test extensively. We can measure the percentage of lines (and logical branches) that are tested by our code. Show `margin`."
   ]
  },
  {
   "cell_type": "markdown",
   "id": "fc6e1354",
   "metadata": {},
   "source": [
    "### Property-Based Testing\n",
    "There are many more advanced types of testing. I'm just gonna show PBT here, which consists on trying to enforce a general property which is automatically challenged by dynamically generated unit tests. This test cases are generated with the `strategy` object provided by `hypothesis`, and try to find limit and pathological cases.\n",
    "\n",
    "E.g., we can test symmetry for a given distance (try to avoid looking at the distance function, it's none of your business).\n",
    "\n",
    "What's interesting about `hypothesis` is that not only tries test cases we wouldn't try, but it also can reduce counterexamples to a minimal case that's returned to the user: show summation function example.\n",
    "\n",
    "### Mutation Testing\n",
    "Do not show (it's too slow), just comment."
   ]
  },
  {
   "cell_type": "markdown",
   "id": "09476e69",
   "metadata": {},
   "source": [
    "## 6. Style\n",
    "The more we standardize, the less we have to think. If you get paid to think, that's just free money.\n",
    "\n",
    "> You can have your car any color you want, as long as it's black.\n",
    "\n",
    "Comply with [PEP-8, the Style Guide for Python Code](https://peps.python.org/pep-0008/). Show [Black]() and [numpy style for docstrings](https://numpydoc.readthedocs.io/en/latest/format.html)."
   ]
  },
  {
   "cell_type": "markdown",
   "id": "aea4d85a",
   "metadata": {},
   "source": [
    "## 7. Tox (Orchestration)\n",
    "The solution to “it works on my machine...”\n",
    "\n",
    "Run `tox` in `complex_opinion`. Show how a package can work with some Python versions and not with others (e.g., due to attempting to use the warlus with an eralier version than 3.8)."
   ]
  },
  {
   "cell_type": "markdown",
   "id": "efab5a29",
   "metadata": {},
   "source": [
    "## 8. Software Design\n",
    "Overview:\n",
    "- The Zen of Python\n",
    "- Basics of OOP\n",
    "- The pilars of OOP\n",
    "- Features of Good Design\n",
    "- Design Principles\n",
    "- SOLID\n",
    "- Others (DRY, KISS, YAGNI)\n",
    "- Classification of Design Patterns\n",
    "- Selected Patterns"
   ]
  },
  {
   "cell_type": "markdown",
   "id": "b4d6bdc7",
   "metadata": {},
   "source": [
    "### The Zen of Python"
   ]
  },
  {
   "cell_type": "code",
   "execution_count": null,
   "id": "bd10716f",
   "metadata": {},
   "outputs": [],
   "source": [
    "import this"
   ]
  },
  {
   "cell_type": "markdown",
   "id": "54d88967",
   "metadata": {},
   "source": [
    "### Basics of OOP\n",
    "#### What is an Object?\n",
    "Objects are data structures that have:\n",
    "1. Identity (i.e., a unique corresponding place in memory)\n",
    "2. State (i.e., they can store data, called “attributes” in this context)\n",
    "3. Behavior (i.e., they can have functions called “methods” in this context)\n",
    "\n",
    "Let's create a basic object in python and test this properties."
   ]
  },
  {
   "cell_type": "code",
   "execution_count": null,
   "id": "9ade1569",
   "metadata": {},
   "outputs": [],
   "source": [
    "class BankAccount:\n",
    "    def __init__(self):\n",
    "        self.balance = 0  # Instance attribute: private to this object\n",
    "\n",
    "    def deposit(self, amount):\n",
    "        self.balance += amount\n",
    "\n",
    "    def withdraw(self, amount):\n",
    "        if amount > self.balance:\n",
    "            raise ValueError(\"Insufficient funds\")\n",
    "        self.balance -= amount\n",
    "\n",
    "    def get_balance(self):\n",
    "        return self.balance"
   ]
  },
  {
   "cell_type": "code",
   "execution_count": null,
   "id": "6ccfa557",
   "metadata": {},
   "outputs": [],
   "source": [
    "account_of_pepe = BankAccount()"
   ]
  },
  {
   "cell_type": "code",
   "execution_count": null,
   "id": "14f942ae",
   "metadata": {},
   "outputs": [],
   "source": [
    "# 1. Identity\n",
    "id(account_of_pepe)"
   ]
  },
  {
   "cell_type": "code",
   "execution_count": null,
   "id": "50dab976",
   "metadata": {},
   "outputs": [],
   "source": [
    "# 2. State\n",
    "print(account_of_pepe.balance)"
   ]
  },
  {
   "cell_type": "code",
   "execution_count": null,
   "id": "aae16a06",
   "metadata": {},
   "outputs": [],
   "source": [
    "# 3. Behavior\n",
    "print(f'Current balance: {account_of_pepe.balance}')\n",
    "account_of_pepe.deposit(100)\n",
    "print(f'Balance after deposit: {account_of_pepe.balance}')\n",
    "account_of_pepe.withdraw(40)\n",
    "print(f'Balance after withdrawal: {account_of_pepe.balance}')"
   ]
  },
  {
   "cell_type": "markdown",
   "id": "df2b32a1",
   "metadata": {},
   "source": [
    "#### The Problem of the Shared State\n",
    "As with any programming paradigm, OOP is a way of restricting our freedom (if you want absolute freedom, use Assembly; no language renders something possible that wasn't available before). This restriction tries to solve the problem of the shared state: multiple programes can modify the same data at once, enabling all sorts of buggs. Also, this makes it harder to modify the code: if, say, the type of a variable changes, you have to remember to change every single function that depended on the data type of that variable.\n",
    "\n",
    "One possible solution to this problem is the one given by functional programming: “there will be no state”. Another possible solution is the one provided by OOP: “I'll glue together everything that's coupled, so I remember to revise all of them if one changes”.\n",
    "\n",
    "Let's illustrate this. Say I want procedural code to do the same as the code above. It would be enough to just do the following."
   ]
  },
  {
   "cell_type": "code",
   "execution_count": null,
   "id": "047cb95b",
   "metadata": {},
   "outputs": [],
   "source": [
    "# Shared global state\n",
    "balance = 0\n",
    "\n",
    "def deposit(amount):\n",
    "    global balance\n",
    "    balance += amount\n",
    "\n",
    "def withdraw(amount):\n",
    "    global balance\n",
    "    balance -= amount\n",
    "\n",
    "# Anyone can access and modify balance\n",
    "deposit(100)\n",
    "withdraw(40)\n",
    "print(balance)"
   ]
  },
  {
   "cell_type": "markdown",
   "id": "41cdd724",
   "metadata": {},
   "source": [
    "This is obviouly gonna be a problem when we add more users, since we have to distinguish between accounts. Also, changes in the logic (e.g., adding different types of accounts) will make complexity increase very rapidely, i.e., this doesn't scale."
   ]
  },
  {
   "cell_type": "code",
   "execution_count": null,
   "id": "ab413ed6",
   "metadata": {},
   "outputs": [],
   "source": [
    "# Shared state: one dictionary holding all account balances\n",
    "accounts = {\n",
    "    \"alice\": 0,\n",
    "    \"bob\": 0,\n",
    "}\n",
    "\n",
    "def deposit(name, amount):\n",
    "    accounts[name] += amount\n",
    "\n",
    "def withdraw(name, amount):\n",
    "    accounts[name] -= amount  # ❗️No check for overdraft\n",
    "\n",
    "def get_balance(name):\n",
    "    return accounts[name]\n",
    "\n",
    "# Use case\n",
    "deposit(\"alice\", 100)\n",
    "withdraw(\"bob\", 20)  # ❗️Invalid: bob has no money\n",
    "print(f\"Alice: {get_balance('alice')}\")\n",
    "print(f\"Bob: {get_balance('bob')}\")\n"
   ]
  },
  {
   "cell_type": "markdown",
   "id": "b78c2199",
   "metadata": {},
   "source": [
    "Say we want to correct for this error and also we're asked to add a history of movements. Now things get more complicated."
   ]
  },
  {
   "cell_type": "code",
   "execution_count": null,
   "id": "c0aebf1e",
   "metadata": {},
   "outputs": [],
   "source": [
    "# Problem: tracking savings and checking accounts for many users\n",
    "\n",
    "# Each account is a tuple:\n",
    "# (balance: float, type: str, overdraft_allowed: bool, history: list of str)\n",
    "accounts = {\n",
    "    \"alice_checking\": (500.0, \"checking\", True, []),\n",
    "    \"bob_savings\":    (300.0, \"savings\", False, [])\n",
    "}\n",
    "\n",
    "def deposit(account_id, amount):\n",
    "    bal, acc_type, overdraft, hist = accounts[account_id]\n",
    "    bal += amount\n",
    "    hist.append(f\"Deposited {amount}\")\n",
    "    accounts[account_id] = (bal, acc_type, overdraft, hist)\n",
    "\n",
    "def withdraw(account_id, amount):\n",
    "    bal, acc_type, overdraft, hist = accounts[account_id]\n",
    "    if not overdraft and bal < amount:\n",
    "        print(\"❌ Insufficient funds\")\n",
    "        return\n",
    "    bal -= amount\n",
    "    hist.append(f\"Withdrew {amount}\")\n",
    "    accounts[account_id] = (bal, acc_type, overdraft, hist)\n",
    "\n",
    "def print_statement(account_id):\n",
    "    _, _, _, hist = accounts[account_id]\n",
    "    print(f\"Statement for {account_id}:\")\n",
    "    for h in hist:\n",
    "        print(\" \", h)\n",
    "\n",
    "# Run a scenario\n",
    "deposit(\"alice_checking\", 100)\n",
    "withdraw(\"alice_checking\", 700)  # Allowed due to overdraft\n",
    "withdraw(\"bob_savings\", 400)     # Should fail\n",
    "print_statement(\"alice_checking\")\n"
   ]
  },
  {
   "cell_type": "markdown",
   "id": "16598941",
   "metadata": {},
   "source": [
    "Problems with this:\n",
    "- Functions are complicated and hard to read (Zen of Python: Readability counts).\n",
    "- Functions have access to all acounts when modifying the balance of a particular account (prone to error).\n",
    "- If we want to extend the accounts to include another variable, we'd have to change **all the functions**, and be careful to do it consistently, without forgetting any of them!\n",
    "\n",
    "Solution: OOP refactor!"
   ]
  },
  {
   "cell_type": "code",
   "execution_count": null,
   "id": "529a75d0",
   "metadata": {},
   "outputs": [],
   "source": [
    "class BankAccount:\n",
    "    def __init__(self, owner: str, balance: float = 0.0, overdraft_allowed: bool = False, overdraft_limit: float = 0.0):\n",
    "        self.owner = owner\n",
    "        self.balance = balance\n",
    "        self.overdraft_allowed = overdraft_allowed\n",
    "        self.overdraft_limit = overdraft_limit if overdraft_allowed else 0.0\n",
    "        self.history = []\n",
    "\n",
    "    def deposit(self, amount: float):\n",
    "        self.balance += amount\n",
    "        self.history.append(f\"Deposited {amount:.2f}\")\n",
    "\n",
    "    def withdraw(self, amount: float):\n",
    "        if self.balance - amount < -self.overdraft_limit:\n",
    "            raise ValueError(\"Withdrawal denied: insufficient funds or overdraft limit exceeded\")\n",
    "        self.balance -= amount\n",
    "        self.history.append(f\"Withdrew {amount:.2f}\")\n",
    "\n",
    "    def print_statement(self):\n",
    "        print(f\"Statement for {self.owner}:\")\n",
    "        for line in self.history:\n",
    "            print(\" \", line)\n",
    "        print(f\"Final balance: {self.balance:.2f}\")\n"
   ]
  },
  {
   "cell_type": "code",
   "execution_count": null,
   "id": "e42f71e7",
   "metadata": {},
   "outputs": [],
   "source": [
    "alice = BankAccount(\"Alice\", balance=500.0, overdraft_allowed=True, overdraft_limit=300.0)\n",
    "bob   = BankAccount(\"Bob\", balance=300.0, overdraft_allowed=False)\n",
    "\n",
    "alice.deposit(100)        # Balance: 600\n",
    "alice.withdraw(850)       # OK: overdraft limit is 300\n",
    "try:\n",
    "    bob.withdraw(400)     # Not allowed\n",
    "except ValueError as e:\n",
    "    print(f\"Bob: {e}\")\n",
    "\n",
    "alice.print_statement()\n",
    "print()\n",
    "bob.print_statement()\n"
   ]
  },
  {
   "cell_type": "markdown",
   "id": "4acd52a1",
   "metadata": {},
   "source": [
    "Notice how each method always knows what `balance` variable to subtract from or add to: it's just the one of their own object. Thus, related behavior and state are tightly held together in this bundle called “an object”. Moreover, extensions are straight forward. This is OOP's way of solving the problem of the shared state."
   ]
  },
  {
   "cell_type": "markdown",
   "id": "6f78bc68",
   "metadata": {},
   "source": [
    "### Pilars of OOP\n",
    "Let's now list the of pilars of OOP:\n",
    "- Abstraction: as with any other type of modeling, we implement only relevant details.\n",
    "- Encapsulation: details are hidden under the hood, we only interact with a simple interface (e.g. `.deposit()`)\n",
    "- Inheritance\n",
    "- Polymorphism"
   ]
  },
  {
   "cell_type": "markdown",
   "id": "c8c6450f",
   "metadata": {},
   "source": [
    "#### Inheritance\n",
    "Inheritance is the ability to build new classes on top of existing ones. The main benefit of inheritance is code reuse. They reflect a “is a” type of relationship. For example, in our previous case we could have reused code and further personalize for account type."
   ]
  },
  {
   "cell_type": "code",
   "execution_count": null,
   "id": "299109b3",
   "metadata": {},
   "outputs": [],
   "source": [
    "class BankAccount:\n",
    "    def __init__(self, owner: str, balance: float = 0.0):\n",
    "        self.owner = owner\n",
    "        self.balance = balance\n",
    "        self.history = []\n",
    "\n",
    "    def deposit(self, amount: float):\n",
    "        self.balance += amount\n",
    "        self.history.append(f\"Deposited {amount:.2f}\")\n",
    "\n",
    "    def withdraw(self, amount: float):\n",
    "        if amount > self.balance:\n",
    "            raise ValueError(\"Insufficient funds\")\n",
    "        self.balance -= amount\n",
    "        self.history.append(f\"Withdrew {amount:.2f}\")\n",
    "\n",
    "    def print_statement(self):\n",
    "        print(f\"Statement for {self.owner}:\")\n",
    "        for entry in self.history:\n",
    "            print(\" \", entry)\n",
    "        print(f\"Final balance: {self.balance:.2f}\")\n",
    "\n",
    "# CheckingAccount allows overdraft\n",
    "class CheckingAccount(BankAccount):\n",
    "    def __init__(self, owner: str, balance: float = 0.0, overdraft_limit: float = 500.0):\n",
    "        super().__init__(owner, balance)\n",
    "        self.overdraft_limit = overdraft_limit\n",
    "\n",
    "    def withdraw(self, amount: float):\n",
    "        if amount > self.balance + self.overdraft_limit:\n",
    "            raise ValueError(\"Overdraft limit exceeded\")\n",
    "        self.balance -= amount\n",
    "        self.history.append(f\"Withdrew {amount:.2f} (checking)\")\n",
    "\n",
    "# SavingsAccount disallows overdraft\n",
    "class SavingsAccount(BankAccount):\n",
    "    def withdraw(self, amount: float):\n",
    "        if amount > self.balance:\n",
    "            raise ValueError(\"Insufficient funds (savings)\")\n",
    "        self.balance -= amount\n",
    "        self.history.append(f\"Withdrew {amount:.2f} (savings)\")\n"
   ]
  },
  {
   "cell_type": "code",
   "execution_count": null,
   "id": "07525d9a",
   "metadata": {},
   "outputs": [],
   "source": [
    "alice = CheckingAccount(\"Alice\", balance=500.0)\n",
    "bob   = SavingsAccount(\"Bob\", balance=300.0)\n",
    "\n",
    "alice.deposit(100)           # balance = 600\n",
    "alice.withdraw(700)          # allowed due to overdraft (limit 500)\n",
    "\n",
    "try:\n",
    "    bob.withdraw(400)        # disallowed: overdraft not permitted\n",
    "except ValueError as e:\n",
    "    print(f\"Bob: {e}\")\n",
    "\n",
    "alice.print_statement()\n",
    "print()\n",
    "bob.print_statement()\n"
   ]
  },
  {
   "cell_type": "markdown",
   "id": "4a360711",
   "metadata": {},
   "source": [
    "#### Polymorphism\n",
    "This is the ability of calling an object with the same message and get class-dependent behavior. To put it plainly, with similarly looking code, you can get different behavior. Let's see a toy example."
   ]
  },
  {
   "cell_type": "code",
   "execution_count": null,
   "id": "a86d3469",
   "metadata": {},
   "outputs": [],
   "source": [
    "class Animal:\n",
    "    def make_sound(self):\n",
    "        print(\"Some animal sound\")\n",
    "\n",
    "class Dog(Animal):\n",
    "    def make_sound(self):\n",
    "        print(\"¡Guau!\")\n",
    "\n",
    "class Cat(Animal):\n",
    "    def make_sound(self):\n",
    "        print(\"¡Miau!\")\n",
    "\n",
    "a = Animal()\n",
    "b = Dog()\n",
    "c = Cat()\n",
    "\n",
    "a.make_sound()\n",
    "b.make_sound()\n",
    "c.make_sound()"
   ]
  },
  {
   "cell_type": "markdown",
   "id": "0f0e4cb8",
   "metadata": {},
   "source": [
    "### Features of Good Design\n",
    "#### 1. Code Reuse\n",
    "Code reuse is one of the most common ways to reduce development costs. The intent is pretty obvious: instead of develop-\n",
    "ing something over and over from scratch, why don’t we reuse existing code in new projects?\n",
    "\n",
    "The idea looks great on paper, but it turns out that making existing code work in a new context usually takes extra effort. Tight coupling between components, dependencies on concrete classes instead of interfaces, hardcoded operations—all of this reduces flexibility of the code and makes it harder to reuse it.\n",
    "\n",
    "Using design patterns is one way to increase flexibility of software components and make them easier to reuse. However, this sometimes comes at the price of making the components more complicated.\n",
    "\n",
    "#### 2. Extensibility\n",
    "Change is the only constant thing in a programmer’s life.\n",
    "\n",
    "That’s why all seasoned developers try to provide for possible future changes when designing an application’s architecture.\n"
   ]
  },
  {
   "cell_type": "markdown",
   "id": "bb814c04",
   "metadata": {},
   "source": [
    "### Design Principles\n",
    "#### Encapsulate What Varies\n",
    "Identify the aspects of your application that vary and separate them from what stays the same.\n",
    "\n",
    "Encapsulation on a method level.\n",
    "\n",
    "Encapsulation on a class level."
   ]
  },
  {
   "cell_type": "markdown",
   "id": "a332d29e",
   "metadata": {},
   "source": [
    "#### Program to an Interface, not an Implementation\n",
    "What does a class really need to know about their collaborators? Surely nothing about the internal structure or the concrete implementation.\n",
    "\n",
    "Show my output class on `tumorsphere_culture`."
   ]
  },
  {
   "cell_type": "markdown",
   "id": "dc6f7b3f",
   "metadata": {},
   "source": [
    "#### Favor Composition Over Inheritance\n"
   ]
  },
  {
   "cell_type": "code",
   "execution_count": null,
   "id": "a9313f0e",
   "metadata": {},
   "outputs": [],
   "source": []
  }
 ],
 "metadata": {
  "kernelspec": {
   "display_name": "sft_dev_seminar",
   "language": "python",
   "name": "python3"
  },
  "language_info": {
   "codemirror_mode": {
    "name": "ipython",
    "version": 3
   },
   "file_extension": ".py",
   "mimetype": "text/x-python",
   "name": "python",
   "nbconvert_exporter": "python",
   "pygments_lexer": "ipython3",
   "version": "3.12.11"
  }
 },
 "nbformat": 4,
 "nbformat_minor": 5
}

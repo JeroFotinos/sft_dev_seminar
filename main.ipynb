{
 "cells": [
  {
   "cell_type": "markdown",
   "id": "21ba52ef",
   "metadata": {},
   "source": [
    "# Seminar on Software Developmenet Tools\n",
    "The first sections will be about quality, and the last one will deal with design."
   ]
  },
  {
   "cell_type": "markdown",
   "id": "ea91d03c",
   "metadata": {},
   "source": [
    "## 0. Coding Environments\n",
    "Running python from the terminal, running ipython, running jupyter notebook. There's a place for interactive computing. Do not marry your tools: don't use a hammer with a screw."
   ]
  },
  {
   "cell_type": "markdown",
   "id": "77223277",
   "metadata": {},
   "source": [
    "## 1. Debbuging\n",
    "Go through the examples on `./debugging`; follow the instructions on the `README.md` if needed."
   ]
  },
  {
   "cell_type": "markdown",
   "id": "776c2aa3",
   "metadata": {},
   "source": [
    "## 2. Virtual Environment\n",
    "Show `virtualenv`, `virtualenvwrapper` and difference in numpy versions with this repo and `complex_opinion`.\n",
    "\n",
    "Use:\n",
    "```bash\n",
    "pip show numpy | grep ^Version\n",
    "```\n",
    "\n",
    "**Note:** The character `^` in the command is a *regular expression anchor* that matches the *start of a line*, i.e., in this case `grep ^Version` matches any line that starts with the word `Version`.\n",
    "\n",
    "The idea is to show that we can have different versions of `numpy` coexisting in our computer thanks to having multiple virtual environments."
   ]
  },
  {
   "cell_type": "markdown",
   "id": "406321c4",
   "metadata": {},
   "source": [
    "## 2. Version Control\n",
    "Show Git with `complex_opinion`. Delete some piece of code and show `status`, `diff`, and `restore`. Mention `log`, `pull`, and `branch`, and the fact that you can always go back to any point in history. Mention it's joint use with LaTeX for writing a paper, in particular the use of branches and `diff` for seeing changes and merging if agreed."
   ]
  },
  {
   "cell_type": "markdown",
   "id": "b062d83f",
   "metadata": {},
   "source": [
    "## 3. GitHub\n",
    "A Hub for Git repositories. That's how we can get other people's code and colaborate between us (think of papers). Show PyPI too."
   ]
  },
  {
   "cell_type": "markdown",
   "id": "4e47d12f",
   "metadata": {},
   "source": [
    "## 4. Packing\n",
    "Useful for having your code available as third-party packages (explain editable installation: `pip install --editable .`), publishing in PyPI, and for **portability**, e.g., running in a cluster. In this last case, we just install micromamba, create the invironment, and do `pip install paquete.whl`. Show `dist` directory in `tumorsphere_culture`.\n",
    "\n",
    "For packing:\n",
    "1. Install everything necessary `pip install --upgrade build`\n",
    "2. Build with `python3 -m build`\n",
    "\n",
    "This will generate the files for distribution: `.tar.gz` for source distribution and `.whl` for built distribution.\n",
    "\n",
    "Explain:\n",
    "- `MANIFEST.in`\n",
    "- `pyproject.toml`, in particular the part where we declare the dependencies\n",
    "\n",
    "Note: if you're not distributing (and therefore maintaining) the software, it always a good idea to do a `pip freeze > requirements.txt` to be able to go back to the original package versions."
   ]
  },
  {
   "cell_type": "markdown",
   "id": "ef3c6325",
   "metadata": {},
   "source": [
    "## 5. Testing\n",
    "It's useless as quality assurance that “you wrote the code yourself and know how it works”. How do **I** know that it works? Tests are things that we check about the behavior of our code. By seeing which tests pass, I can get some level of assurance on the correctness of the code.\n",
    "\n",
    "### 5.1 Unit Tests\n",
    "Show example in the `testing` directory: `pytest -v test_math_utils.py`. This are examples of “unit tests”, tests that check a single instance of a property.\n",
    "\n",
    "### 5.2 Integration Tests\n",
    "Integration tests check the fuctioning of the system as a hole, not just of a single part. E.g., I could have checked that both my `Cell` and `Culture` objects are instanced correctly, but have my simulation do something wrong with them. See [meme](https://images.app.goo.gl/vH7UYtYb4a9cDsrM8).\n",
    "\n",
    "An example of an integration test could be to reproduce a previous result which we trust. Show tests in `complex_opinion`. We check single properties of errors that should be rise when inappropriately instantiating objects (unit tests), but then we check that Mahdi's results are reproduced (integration tests). Use: `pytest -v tests/ --cov complex_opinion/ -m \"not slow\"`.\n",
    "\n",
    "Note that the deselected tests are parametrized (explain that).\n",
    "\n",
    "### 5.3 Coverage\n",
    "In general, one should test extensively. We can measure the percentage of lines (and logical branches) that are tested by our code. Show `margin`."
   ]
  },
  {
   "cell_type": "markdown",
   "id": "fc6e1354",
   "metadata": {},
   "source": [
    "### 5.4 Property-Based Testing\n",
    "There are many more advanced types of testing. I'm just gonna show PBT here, which consists on trying to enforce a general property which is automatically challenged by dynamically generated unit tests. This test cases are generated with the `strategy` object provided by `hypothesis`, and try to find limit and pathological cases.\n",
    "\n",
    "E.g., we can test symmetry for a given distance (try to avoid looking at the distance function, it's none of your business).\n",
    "\n",
    "What's interesting about `hypothesis` is that not only tries test cases we wouldn't try, but it also can reduce counterexamples to a minimal case that's returned to the user: show summation function example.\n",
    "\n",
    "### 5.5 Mutation Testing\n",
    "Do not show (it's too slow), just comment.\n",
    "\n",
    "Note that coverage percentage and mutant survival ratio are measures of the quality of *our tests*."
   ]
  },
  {
   "cell_type": "code",
   "execution_count": null,
   "id": "612c0fc0",
   "metadata": {},
   "outputs": [
    {
     "name": "stdout",
     "output_type": "stream",
     "text": [
      "³þo\n"
     ]
    }
   ],
   "source": [
    "# Look at how funny these attempts are\n",
    "from hypothesis.strategies import text; print(text().example())"
   ]
  },
  {
   "cell_type": "markdown",
   "id": "09476e69",
   "metadata": {},
   "source": [
    "## 6. Style\n",
    "The more we standardize, the less we have to think. If you get paid to think, that's just free money.\n",
    "\n",
    "> You can have your car any color you want, as long as it's black.\n",
    "\n",
    "Comply with [PEP-8, the Style Guide for Python Code](https://peps.python.org/pep-0008/). Show [Black]() and [numpy style for docstrings](https://numpydoc.readthedocs.io/en/latest/format.html)."
   ]
  },
  {
   "cell_type": "markdown",
   "id": "aea4d85a",
   "metadata": {},
   "source": [
    "## 7. Tox (Orchestration)\n",
    "The solution to “it works on my machine...”\n",
    "\n",
    "Run `tox` in `complex_opinion`. Show how a package can work with some Python versions and not with others (e.g., due to attempting to use the warlus with an eralier version than 3.8)."
   ]
  },
  {
   "cell_type": "markdown",
   "id": "efab5a29",
   "metadata": {},
   "source": [
    "## 8. Software Design\n",
    "Overview:\n",
    "- The Zen of Python\n",
    "- Basics of OOP\n",
    "- The pilars of OOP\n",
    "- Features of Good Design\n",
    "- Design Principles\n",
    "- SOLID\n",
    "- Others (DRY, KISS, YAGNI)\n",
    "- Classification of Design Patterns\n",
    "- Selected Patterns"
   ]
  },
  {
   "cell_type": "markdown",
   "id": "b4d6bdc7",
   "metadata": {},
   "source": [
    "### 8.1 The Zen of Python"
   ]
  },
  {
   "cell_type": "code",
   "execution_count": null,
   "id": "bd10716f",
   "metadata": {},
   "outputs": [],
   "source": [
    "import this"
   ]
  },
  {
   "cell_type": "markdown",
   "id": "54d88967",
   "metadata": {},
   "source": [
    "### 8.2 Basics of OOP\n",
    "#### 8.2.1 What is an Object?\n",
    "Objects are data structures that have:\n",
    "1. Identity (i.e., a unique corresponding place in memory)\n",
    "2. State (i.e., they can store data, called “attributes” in this context)\n",
    "3. Behavior (i.e., they can have functions called “methods” in this context)\n",
    "\n",
    "Let's create a basic object in python and test this properties."
   ]
  },
  {
   "cell_type": "code",
   "execution_count": null,
   "id": "9ade1569",
   "metadata": {},
   "outputs": [],
   "source": [
    "class BankAccount:\n",
    "    def __init__(self):\n",
    "        self.balance = 0  # Instance attribute: private to this object\n",
    "\n",
    "    def deposit(self, amount):\n",
    "        self.balance += amount\n",
    "\n",
    "    def withdraw(self, amount):\n",
    "        if amount > self.balance:\n",
    "            raise ValueError(\"Insufficient funds\")\n",
    "        self.balance -= amount\n",
    "\n",
    "    def get_balance(self):\n",
    "        return self.balance"
   ]
  },
  {
   "cell_type": "code",
   "execution_count": null,
   "id": "6ccfa557",
   "metadata": {},
   "outputs": [],
   "source": [
    "account_of_pepe = BankAccount()"
   ]
  },
  {
   "cell_type": "code",
   "execution_count": null,
   "id": "14f942ae",
   "metadata": {},
   "outputs": [],
   "source": [
    "# 1. Identity\n",
    "id(account_of_pepe)"
   ]
  },
  {
   "cell_type": "code",
   "execution_count": null,
   "id": "50dab976",
   "metadata": {},
   "outputs": [],
   "source": [
    "# 2. State\n",
    "print(account_of_pepe.balance)"
   ]
  },
  {
   "cell_type": "code",
   "execution_count": null,
   "id": "aae16a06",
   "metadata": {},
   "outputs": [],
   "source": [
    "# 3. Behavior\n",
    "print(f'Current balance: {account_of_pepe.balance}')\n",
    "account_of_pepe.deposit(100)\n",
    "print(f'Balance after deposit: {account_of_pepe.balance}')\n",
    "account_of_pepe.withdraw(40)\n",
    "print(f'Balance after withdrawal: {account_of_pepe.balance}')"
   ]
  },
  {
   "cell_type": "markdown",
   "id": "df2b32a1",
   "metadata": {},
   "source": [
    "#### 8.2.2 The Problem of the Shared State\n",
    "As with any programming paradigm, OOP is a way of restricting our freedom (if you want absolute freedom, use Assembly; no language renders something possible that wasn't available before). This restriction tries to solve the problem of the shared state: multiple programes can modify the same data at once, enabling all sorts of buggs. Also, this makes it harder to modify the code: if, say, the type of a variable changes, you have to remember to change every single function that depended on the data type of that variable.\n",
    "\n",
    "One possible solution to this problem is the one given by functional programming: “there will be no state”. Another possible solution is the one provided by OOP: “I'll glue together everything that's coupled, so I remember to revise all of them if one changes”.\n",
    "\n",
    "Let's illustrate this. Say I want procedural code to do the same as the code above. It would be enough to just do the following."
   ]
  },
  {
   "cell_type": "code",
   "execution_count": null,
   "id": "047cb95b",
   "metadata": {},
   "outputs": [],
   "source": [
    "# Shared global state\n",
    "balance = 0\n",
    "\n",
    "def deposit(amount):\n",
    "    global balance\n",
    "    balance += amount\n",
    "\n",
    "def withdraw(amount):\n",
    "    global balance\n",
    "    balance -= amount\n",
    "\n",
    "# Anyone can access and modify balance\n",
    "deposit(100)\n",
    "withdraw(40)\n",
    "print(balance)"
   ]
  },
  {
   "cell_type": "markdown",
   "id": "41cdd724",
   "metadata": {},
   "source": [
    "This is obviouly gonna be a problem when we add more users, since we have to distinguish between accounts. Also, changes in the logic (e.g., adding different types of accounts) will make complexity increase very rapidely, i.e., this doesn't scale."
   ]
  },
  {
   "cell_type": "code",
   "execution_count": null,
   "id": "ab413ed6",
   "metadata": {},
   "outputs": [],
   "source": [
    "# Shared state: one dictionary holding all account balances\n",
    "accounts = {\n",
    "    \"alice\": 0,\n",
    "    \"bob\": 0,\n",
    "}\n",
    "\n",
    "def deposit(name, amount):\n",
    "    accounts[name] += amount\n",
    "\n",
    "def withdraw(name, amount):\n",
    "    accounts[name] -= amount  # ❗️No check for overdraft\n",
    "\n",
    "def get_balance(name):\n",
    "    return accounts[name]\n",
    "\n",
    "# Use case\n",
    "deposit(\"alice\", 100)\n",
    "withdraw(\"bob\", 20)  # ❗️Invalid: bob has no money\n",
    "print(f\"Alice: {get_balance('alice')}\")\n",
    "print(f\"Bob: {get_balance('bob')}\")\n"
   ]
  },
  {
   "cell_type": "markdown",
   "id": "b78c2199",
   "metadata": {},
   "source": [
    "Say we want to correct for this error and also we're asked to add a history of movements. Now things get more complicated."
   ]
  },
  {
   "cell_type": "code",
   "execution_count": null,
   "id": "c0aebf1e",
   "metadata": {},
   "outputs": [],
   "source": [
    "# Problem: tracking savings and checking accounts for many users\n",
    "\n",
    "# Each account is a tuple:\n",
    "# (balance: float, type: str, overdraft_allowed: bool, history: list of str)\n",
    "accounts = {\n",
    "    \"alice_checking\": (500.0, \"checking\", True, []),\n",
    "    \"bob_savings\":    (300.0, \"savings\", False, [])\n",
    "}\n",
    "\n",
    "def deposit(account_id, amount):\n",
    "    bal, acc_type, overdraft, hist = accounts[account_id]\n",
    "    bal += amount\n",
    "    hist.append(f\"Deposited {amount}\")\n",
    "    accounts[account_id] = (bal, acc_type, overdraft, hist)\n",
    "\n",
    "def withdraw(account_id, amount):\n",
    "    bal, acc_type, overdraft, hist = accounts[account_id]\n",
    "    if not overdraft and bal < amount:\n",
    "        print(\"❌ Insufficient funds\")\n",
    "        return\n",
    "    bal -= amount\n",
    "    hist.append(f\"Withdrew {amount}\")\n",
    "    accounts[account_id] = (bal, acc_type, overdraft, hist)\n",
    "\n",
    "def print_statement(account_id):\n",
    "    _, _, _, hist = accounts[account_id]\n",
    "    print(f\"Statement for {account_id}:\")\n",
    "    for h in hist:\n",
    "        print(\" \", h)\n",
    "\n",
    "# Run a scenario\n",
    "deposit(\"alice_checking\", 100)\n",
    "withdraw(\"alice_checking\", 700)  # Allowed due to overdraft\n",
    "withdraw(\"bob_savings\", 400)     # Should fail\n",
    "print_statement(\"alice_checking\")\n"
   ]
  },
  {
   "cell_type": "markdown",
   "id": "16598941",
   "metadata": {},
   "source": [
    "Problems with this:\n",
    "- Functions are complicated and hard to read (Zen of Python: Readability counts).\n",
    "- Functions have access to all acounts when modifying the balance of a particular account (prone to error).\n",
    "- If we want to extend the accounts to include another variable, we'd have to change **all the functions**, and be careful to do it consistently, without forgetting any of them!\n",
    "- Also, in Python extension of current account tuples is not possible (tupples do not support an append method). However, they were the appropriate data structure (lists would have been prone to error), unless we were willing to nest dictionaries.\n",
    "\n",
    "Solution: OOP refactor!"
   ]
  },
  {
   "cell_type": "code",
   "execution_count": null,
   "id": "529a75d0",
   "metadata": {},
   "outputs": [],
   "source": [
    "class BankAccount:\n",
    "    def __init__(self, owner: str, balance: float = 0.0, overdraft_allowed: bool = False, overdraft_limit: float = 0.0):\n",
    "        self.owner = owner\n",
    "        self.balance = balance\n",
    "        self.overdraft_allowed = overdraft_allowed\n",
    "        self.overdraft_limit = overdraft_limit if overdraft_allowed else 0.0\n",
    "        self.history = []\n",
    "\n",
    "    def deposit(self, amount: float):\n",
    "        self.balance += amount\n",
    "        self.history.append(f\"Deposited {amount:.2f}\")\n",
    "\n",
    "    def withdraw(self, amount: float):\n",
    "        if self.balance - amount < -self.overdraft_limit:\n",
    "            raise ValueError(\"Withdrawal denied: insufficient funds or overdraft limit exceeded\")\n",
    "        self.balance -= amount\n",
    "        self.history.append(f\"Withdrew {amount:.2f}\")\n",
    "\n",
    "    def print_statement(self):\n",
    "        print(f\"Statement for {self.owner}:\")\n",
    "        for line in self.history:\n",
    "            print(\" \", line)\n",
    "        print(f\"Final balance: {self.balance:.2f}\")\n"
   ]
  },
  {
   "cell_type": "code",
   "execution_count": null,
   "id": "e42f71e7",
   "metadata": {},
   "outputs": [],
   "source": [
    "alice = BankAccount(\"Alice\", balance=500.0, overdraft_allowed=True, overdraft_limit=300.0)\n",
    "bob   = BankAccount(\"Bob\", balance=300.0, overdraft_allowed=False)\n",
    "\n",
    "alice.deposit(100)        # Balance: 600\n",
    "alice.withdraw(850)       # OK: overdraft limit is 300\n",
    "try:\n",
    "    bob.withdraw(400)     # Not allowed\n",
    "except ValueError as e:\n",
    "    print(f\"Bob: {e}\")\n",
    "\n",
    "alice.print_statement()\n",
    "print()\n",
    "bob.print_statement()\n"
   ]
  },
  {
   "cell_type": "markdown",
   "id": "4acd52a1",
   "metadata": {},
   "source": [
    "Notice how each method always knows what `balance` variable to subtract from or add to: it's just the one of their own object. Thus, related behavior and state are tightly held together in this bundle called “an object”. Moreover, extensions are straight forward. This is OOP's way of solving the problem of the shared state."
   ]
  },
  {
   "cell_type": "markdown",
   "id": "6f78bc68",
   "metadata": {},
   "source": [
    "### 8.3 Pilars of OOP\n",
    "Let's now list the of pilars of OOP:\n",
    "- Abstraction: as with any other type of modeling, we implement only relevant details.\n",
    "- Encapsulation: details are hidden under the hood, we only interact with a simple interface (e.g. `.deposit()`)\n",
    "- Inheritance\n",
    "- Polymorphism"
   ]
  },
  {
   "cell_type": "markdown",
   "id": "c8c6450f",
   "metadata": {},
   "source": [
    "#### 8.3.1 Inheritance\n",
    "Inheritance is the ability to build new classes on top of existing ones. The main benefit of inheritance is code reuse. They reflect a “is a” type of relationship. For example, in our previous case we could have reused code and further personalize for account type."
   ]
  },
  {
   "cell_type": "code",
   "execution_count": null,
   "id": "299109b3",
   "metadata": {},
   "outputs": [],
   "source": [
    "class BankAccount:\n",
    "    def __init__(self, owner: str, balance: float = 0.0):\n",
    "        self.owner = owner\n",
    "        self.balance = balance\n",
    "        self.history = []\n",
    "\n",
    "    def deposit(self, amount: float):\n",
    "        self.balance += amount\n",
    "        self.history.append(f\"Deposited {amount:.2f}\")\n",
    "\n",
    "    def withdraw(self, amount: float):\n",
    "        if amount > self.balance:\n",
    "            raise ValueError(\"Insufficient funds\")\n",
    "        self.balance -= amount\n",
    "        self.history.append(f\"Withdrew {amount:.2f}\")\n",
    "\n",
    "    def print_statement(self):\n",
    "        print(f\"Statement for {self.owner}:\")\n",
    "        for entry in self.history:\n",
    "            print(\" \", entry)\n",
    "        print(f\"Final balance: {self.balance:.2f}\")\n",
    "\n",
    "# CheckingAccount allows overdraft\n",
    "class CheckingAccount(BankAccount):\n",
    "    def __init__(self, owner: str, balance: float = 0.0, overdraft_limit: float = 500.0):\n",
    "        super().__init__(owner, balance)\n",
    "        self.overdraft_limit = overdraft_limit\n",
    "\n",
    "    def withdraw(self, amount: float):\n",
    "        if amount > self.balance + self.overdraft_limit:\n",
    "            raise ValueError(\"Overdraft limit exceeded\")\n",
    "        self.balance -= amount\n",
    "        self.history.append(f\"Withdrew {amount:.2f} (checking)\")\n",
    "\n",
    "# SavingsAccount disallows overdraft\n",
    "class SavingsAccount(BankAccount):\n",
    "    def withdraw(self, amount: float):\n",
    "        if amount > self.balance:\n",
    "            raise ValueError(\"Insufficient funds (savings)\")\n",
    "        self.balance -= amount\n",
    "        self.history.append(f\"Withdrew {amount:.2f} (savings)\")\n"
   ]
  },
  {
   "cell_type": "markdown",
   "id": "ae344780",
   "metadata": {},
   "source": [
    "Notice that, since we haven't further personalized our `SavingsAccount` class, in this case it's redundant and we could have just used the base class."
   ]
  },
  {
   "cell_type": "code",
   "execution_count": null,
   "id": "07525d9a",
   "metadata": {},
   "outputs": [],
   "source": [
    "alice = CheckingAccount(\"Alice\", balance=500.0)\n",
    "bob   = SavingsAccount(\"Bob\", balance=300.0)\n",
    "\n",
    "alice.deposit(100)           # balance = 600\n",
    "alice.withdraw(700)          # allowed due to overdraft (limit 500)\n",
    "\n",
    "try:\n",
    "    bob.withdraw(400)        # disallowed: overdraft not permitted\n",
    "except ValueError as e:\n",
    "    print(f\"Bob: {e}\")\n",
    "\n",
    "alice.print_statement()\n",
    "print()\n",
    "bob.print_statement()\n"
   ]
  },
  {
   "cell_type": "markdown",
   "id": "4a360711",
   "metadata": {},
   "source": [
    "#### 8.3.2 Polymorphism\n",
    "This is the ability of calling an object with the same message and get class-dependent behavior. To put it plainly, with similarly looking code, you can get different behavior. Let's see a toy example."
   ]
  },
  {
   "cell_type": "code",
   "execution_count": null,
   "id": "a86d3469",
   "metadata": {},
   "outputs": [
    {
     "name": "stdout",
     "output_type": "stream",
     "text": [
      "Some animal sound\n",
      "¡Guau!\n",
      "¡Miau!\n"
     ]
    }
   ],
   "source": [
    "class Animal:\n",
    "    def make_sound(self):\n",
    "        print(\"Some animal sound\")\n",
    "\n",
    "class Dog(Animal):\n",
    "    def make_sound(self):\n",
    "        print(\"¡Guau!\")\n",
    "\n",
    "class Cat(Animal):\n",
    "    def make_sound(self):\n",
    "        print(\"¡Miau!\")\n",
    "\n",
    "a = Animal()\n",
    "b = Dog()\n",
    "c = Cat()\n",
    "\n",
    "a.make_sound()\n",
    "b.make_sound()\n",
    "c.make_sound()"
   ]
  },
  {
   "cell_type": "code",
   "execution_count": 3,
   "id": "2f7f8651",
   "metadata": {},
   "outputs": [
    {
     "name": "stdout",
     "output_type": "stream",
     "text": [
      "Some animal sound\n",
      "¡Guau!\n",
      "¡Miau!\n"
     ]
    }
   ],
   "source": [
    "# We could iterate over animals without caring\n",
    "# about exactly which animal we're dealing with\n",
    "list_of_animals = [a, b, c]\n",
    "\n",
    "for animal in list_of_animals:\n",
    "    animal.make_sound()"
   ]
  },
  {
   "cell_type": "markdown",
   "id": "0f0e4cb8",
   "metadata": {},
   "source": [
    "### 8.4 Features of Good Design\n",
    "#### 1. Code Reuse\n",
    "Code reuse is one of the most common ways to reduce development costs. The intent is pretty obvious: instead of developing something over and over from scratch, why don’t we reuse existing code in new projects? Less code to write, less code to read, less code to maintain.\n",
    "\n",
    "The idea looks great on paper, but it turns out that making existing code work in a new context usually takes extra effort. Tight coupling between components, dependencies on concrete classes instead of interfaces, hardcoded operations—all of this reduces flexibility of the code and makes it harder to reuse it.\n",
    "\n",
    "Using design patterns is one way to increase flexibility of software components and make them easier to reuse. However, this sometimes comes at the price of making the components more complicated.\n",
    "\n",
    "#### 2. Extensibility\n",
    "Change is the only constant thing in a programmer’s life.\n",
    "\n",
    "That’s why all seasoned developers try to provide for possible future changes when designing an application’s architecture.\n"
   ]
  },
  {
   "cell_type": "markdown",
   "id": "bb814c04",
   "metadata": {},
   "source": [
    "### 8.5 Basic Design Principles\n",
    "What is good software design? How can you make your architecture flexible, stable and easy to understand?\n",
    "\n",
    "#### 1. Encapsulate What Varies (Modularity)\n",
    "Identify the aspects of your application that vary and separate them from what stays the same.\n",
    "\n",
    "**Example:** Encapsulation on a method level."
   ]
  },
  {
   "cell_type": "code",
   "execution_count": null,
   "id": "a02c6f68",
   "metadata": {},
   "outputs": [],
   "source": [
    "# Non-modular\n",
    "\n",
    "def get_order_total(order):\n",
    "    total = 0\n",
    "    for item in order.line_items:\n",
    "        total += item.price * item.quantity\n",
    "\n",
    "    if order.country == \"US\":\n",
    "        total += total * 0.07  # US sales tax\n",
    "    elif order.country == \"EU\":\n",
    "        total += total * 0.20  # European VAT\n",
    "\n",
    "    return total"
   ]
  },
  {
   "cell_type": "code",
   "execution_count": null,
   "id": "d8d2309b",
   "metadata": {},
   "outputs": [],
   "source": [
    "# Refactored for modularity\n",
    "\n",
    "def get_order_total(order):\n",
    "    total = 0\n",
    "    for item in order.line_items:\n",
    "        total += item.price * item.quantity\n",
    "    total += total * get_tax_rate(order.country)\n",
    "    return total\n",
    "\n",
    "def get_tax_rate(country):\n",
    "    if country == \"US\":\n",
    "        return 0.07  # US sales tax\n",
    "    elif country == \"EU\":\n",
    "        return 0.20  # European VAT\n",
    "    else:\n",
    "        return 0.0"
   ]
  },
  {
   "cell_type": "markdown",
   "id": "d36d1a7a",
   "metadata": {},
   "source": [
    "**Example:** Encapsulation on a class level.\n",
    "\n",
    "Over time, you might add more and more responsibilities to a method which used to do a simple thing. These added behaviors often come with their own helper fields and methods that eventually blur the primary responsibility of the containing class.\n",
    "\n",
    "Extracting everything to a new class might make things much more clear and simple."
   ]
  },
  {
   "cell_type": "code",
   "execution_count": null,
   "id": "35431053",
   "metadata": {},
   "outputs": [],
   "source": [
    "# SRP violation - tax logic in order class\n",
    "class Order:\n",
    "    def __init__(self, line_items, country, state, city):\n",
    "        self.line_items = line_items\n",
    "        self.country = country\n",
    "        self.state = state\n",
    "        self.city = city\n",
    "        # ... 20+ other fields\n",
    "\n",
    "    def get_order_total(self):\n",
    "        total = 0\n",
    "        for item in self.line_items:\n",
    "            subtotal = item.price * item.quantity\n",
    "            total += subtotal + (subtotal * self.get_tax_rate(self.country, self.state, item.product))\n",
    "        return total\n",
    "\n",
    "    def get_tax_rate(self, country, state, product):\n",
    "        # tax logic grows here — violating SRP\n",
    "        if country == \"US\":\n",
    "            return self._get_us_tax(state)\n",
    "        elif country == \"EU\":\n",
    "            return self._get_eu_tax(country)\n",
    "        elif country == \"CN\":\n",
    "            return self._get_chinese_tax(product)\n",
    "        return 0.0\n",
    "\n",
    "    def _get_us_tax(self, state):\n",
    "        if state == \"CA\":\n",
    "            return 0.075\n",
    "        elif state == \"NY\":\n",
    "            return 0.088\n",
    "        return 0.07\n",
    "\n",
    "    def _get_eu_tax(self, country):\n",
    "        return 0.20\n",
    "\n",
    "    def _get_chinese_tax(self, product):\n",
    "        return 0.13 if product.is_imported else 0.09\n"
   ]
  },
  {
   "cell_type": "markdown",
   "id": "05c9e29d",
   "metadata": {},
   "source": [
    "**Refactoring:** Objects of the `Order` class delegate all tax-related work to a special object that does just that."
   ]
  },
  {
   "cell_type": "code",
   "execution_count": null,
   "id": "c1a90a41",
   "metadata": {},
   "outputs": [],
   "source": [
    "class Order:\n",
    "    def __init__(self, line_items, country, state, city, tax_calculator):\n",
    "        self.line_items = line_items\n",
    "        self.country = country\n",
    "        self.state = state\n",
    "        self.city = city\n",
    "        self.tax_calculator = tax_calculator\n",
    "        # ... other fields\n",
    "\n",
    "    def get_order_total(self):\n",
    "        total = 0\n",
    "        for item in self.line_items:\n",
    "            subtotal = item.price * item.quantity\n",
    "            tax_rate = self.tax_calculator.get_tax_rate(self.country, self.state, item.product)\n",
    "            total += subtotal + (subtotal * tax_rate)\n",
    "        return total\n",
    "\n",
    "\n",
    "class TaxCalculator:\n",
    "    def get_tax_rate(self, country, state, product):\n",
    "        if country == \"US\":\n",
    "            return self.get_us_tax(state)\n",
    "        elif country == \"EU\":\n",
    "            return self.get_eu_tax(country)\n",
    "        elif country == \"CN\":\n",
    "            return self.get_chinese_tax(product)\n",
    "        return 0.0\n",
    "\n",
    "    def get_us_tax(self, state):\n",
    "        return {\n",
    "            \"CA\": 0.075,\n",
    "            \"NY\": 0.088\n",
    "        }.get(state, 0.07)\n",
    "\n",
    "    def get_eu_tax(self, country):\n",
    "        return 0.20  # simplification\n",
    "\n",
    "    def get_chinese_tax(self, product):\n",
    "        return 0.13 if product.is_imported else 0.09\n"
   ]
  },
  {
   "cell_type": "markdown",
   "id": "a332d29e",
   "metadata": {},
   "source": [
    "#### 2. Program to an Interface, not an Implementation\n",
    "What does a class really need to know about their collaborators? Surely nothing about the internal structure or the concrete implementation.\n",
    "\n",
    "Show my output class on `tumorsphere_culture`."
   ]
  },
  {
   "cell_type": "markdown",
   "id": "dc6f7b3f",
   "metadata": {},
   "source": [
    "#### 3. Favor Composition Over Inheritance\n",
    "Inheritance is probably the most obvious and easy way of reusing code between classes. You have two classes with the same code. Create a common base class for these two and move the similar code into it.\n",
    "\n",
    "Unfortunately, inheritance comes with caveats that often become apparent only after your program already has tons of classes and changing anything is pretty hard. Here’s a list of those problems.\n",
    "- **A subclass can’t reduce the interface of the superclass:** You have to implement all abstract methods of the parent class even if you won’t be using them.\n",
    "- **When overriding methods you need to make sure that the new behavior is compatible with the base one.**\n",
    "- **Inheritance breaks encapsulation of the superclass:** Internal details of the parent class become available to the subclass.\n",
    "- **Subclasses are tightly coupled to superclasses:** Any change in a superclass may break the functionality of subclasses.\n",
    "- **Trying to reuse code through inheritance can lead to creating parallel inheritance hierarchies:** Inheritance usually takes place in a single dimension. But whenever there are two or more dimensions, you have to create lots of class combinations, bloating the class hierarchy to a ridiculous size.\n",
    "\n",
    "\n",
    "This is why in `tumorsphere_culture` a `Culture` *has* an `Output` object, instead of having classes with each type of output.\n",
    "\n",
    "Let's see an example.\n"
   ]
  },
  {
   "cell_type": "code",
   "execution_count": null,
   "id": "a9313f0e",
   "metadata": {},
   "outputs": [],
   "source": [
    "# Base class\n",
    "class Culture:\n",
    "    pass\n",
    "\n",
    "# Dimension 1: boundary conditions\n",
    "class UnboundedCulture(Culture):\n",
    "    pass\n",
    "\n",
    "class PeriodicBoundaryCulture(Culture):\n",
    "    pass\n",
    "\n",
    "# Dimension 2: output type\n",
    "class PopulationsMeasuringUnboundedCulture(UnboundedCulture):\n",
    "    pass\n",
    "\n",
    "class PositionsMeasuringUnboundedCulture(UnboundedCulture):\n",
    "    pass\n",
    "\n",
    "class PopulationsMeasuringPeriodicBoundaryCulture(PeriodicBoundaryCulture):\n",
    "    pass\n",
    "\n",
    "class PositionsMeasuringPeriodicBoundaryCulture(PeriodicBoundaryCulture):\n",
    "    pass\n"
   ]
  },
  {
   "cell_type": "markdown",
   "id": "cf6fe31c",
   "metadata": {},
   "source": [
    "This is hell. A better option would be to use composition:"
   ]
  },
  {
   "cell_type": "code",
   "execution_count": null,
   "id": "539faf38",
   "metadata": {},
   "outputs": [],
   "source": [
    "class BoundaryConditions:\n",
    "    pass\n",
    "\n",
    "class Output:\n",
    "    pass\n",
    "\n",
    "class Culture:\n",
    "    def __init__(self, boundary_conditions, output):\n",
    "        self.boundary_conditions = boundary_conditions\n",
    "        self.output = output\n",
    "\n",
    "# In principle, Output and BoundaryConditions would then have subclasses,\n",
    "# but an even better idea is to use abstract classes as interfaces."
   ]
  },
  {
   "cell_type": "markdown",
   "id": "828d347e",
   "metadata": {},
   "source": [
    "### 8.6 SOLID Principles\n",
    "Robert Martin introduced them in the book *Agile Software Development, Principles, Patterns, and Practices*.\n",
    "\n",
    "\n",
    "#### **S -** Single Responsibility Principle\n",
    "\n",
    "> A class should have just one reason to change.\n",
    "\n",
    "Try to make every class responsible for a single part of the functionality provided by the software, and make that responsibility entirely encapsulated by (you can also say *hidden within*) the class.\n",
    "\n",
    "\n",
    "#### **O -** Open/Closed Principle\n",
    "\n",
    "> Classes should be open for extension but closed for modification.\n",
    "\n",
    "A class is *open if you can extend it*, produce a subclass and do whatever you want with it—add new methods or fields, override base behavior, etc.\n",
    "\n",
    "At the same time, the class is *closed* (you can also say *complete*) if it’s 100% ready to be used by other classes — its *interface is clearly defined and won’t be changed* in the future.\n",
    "\n",
    "\n",
    "#### **L -** Liskov Substitution Principle\n",
    "\n",
    "> When extending a class, remember that you should be able to pass objects of the subclass in place of objects of the parent class without breaking the client code.\n",
    "\n",
    "Unlike other design principles which are wide open for interpretation, the substitution principle has a set of formal requirements for subclasses, and specifically for their methods. Let’s go over this checklist in detail.\n",
    "- Parameter types in a method of a subclass should match or be more abstract than parameter types in the method of the superclass.\n",
    "- The return type in a method of a subclass should match or be a subtype of the return type in the method of the superclass.\n",
    "- A method in a subclass shouldn’t throw types of exceptions which the base method isn’t expected to throw.\n",
    "- A subclass shouldn’t strengthen pre-conditions.\n",
    "- A subclass shouldn’t weaken post-conditions.\n",
    "- Invariants of a superclass must be preserved. (Invariants are conditions in which an object makes sense.)\n",
    "- A subclass shouldn’t change values of private fields of the superclass.\n",
    "\n",
    "Note: now this principle is usually built into languages, but I think SmallTalk didn't abide by it for instance.\n",
    "\n",
    "\n",
    "#### **I -** Interface Segregation Principle\n",
    "\n",
    "> Clients shouldn’t be forced to depend on methods they do not use.\n",
    "\n",
    "Try to make your interfaces narrow enough that client classes don’t have to implement behaviors they don’t need.\n",
    "\n",
    "According to the interface segregation principle, you should break down “fat” interfaces into more granular and specific ones. Clients should implement only those methods that they really need. Otherwise, a change to a “fat” interface would break even clients that don’t use the changed methods.\n",
    "\n",
    "\n",
    "#### **D -** Dependency Inversion Principle\n",
    "\n",
    "> High-level classes shouldn’t depend on low-level classes. Both should depend on abstractions. Abstractions shouldn’t depend on details. Details should depend on abstractions.\n",
    "\n",
    "Basically, insert dependencies into a level as high as possible.\n",
    "\n",
    "\n"
   ]
  },
  {
   "cell_type": "markdown",
   "id": "0568ef7a",
   "metadata": {},
   "source": [
    "### 8.7 Design Patterns\n",
    "#### 8.7.1 What's a Design Pattern?\n",
    "Design patterns are typical solutions to commonly occurring problems in software design. They are like pre-made blueprints that you can customize to solve a recurring design problem in your code.\n",
    "\n",
    "You can’t just find a pattern and copy it into your program, the way you can with off-the-shelf functions or libraries. The pattern is not a specific piece of code, but a general concept for solving a particular problem. You can follow the pattern details and implement a solution that suits the realities of your own program.\n",
    "\n",
    "\n",
    "#### 8.7.2 Classification of patterns\n",
    "From low to high level:\n",
    "- Idioms: The most basic and low-level patterns, they usually apply only to a single programming language.\n",
    "- Sweet middle ground (we're gonna focus on these)\n",
    "- Architectural Patterns: The most universal and high-level patterns. Developers can implement these patterns in virtually any language. Unlike other patterns, they can be used to design the architecture of an entire application.\n",
    "\n",
    "By intent:\n",
    "- **Creational patterns** provide object creation mechanisms that increase flexibility and reuse of existing code.\n",
    "- **Structural patterns** explain how to assemble objects and classes into larger structures, while keeping these structures flexible and efficient.\n",
    "- **Behavioral patterns** take care of effective communication and the assignment of responsibilities between objects.\n",
    "\n",
    "\n",
    "#### 8.7.3 Why Should We Learn Patterns?\n",
    "\n",
    "1. Design patterns are a toolkit of **tried and tested solutions** to common problems in software design. Their *strong points* as well as their *disadvantages are well known*. Even if you never\n",
    "encounter these problems, knowing patterns is still useful because it teaches you how to solve all sorts of problems using principles of object-oriented design.\n",
    "\n",
    "2. Design patterns define a **common language** that you and your teammates can use to communicate more efficiently. You can say, “Oh, just use a Singleton for that,” and everyone will\n",
    "understand the idea behind your suggestion.\n"
   ]
  },
  {
   "cell_type": "markdown",
   "id": "02cdae61",
   "metadata": {},
   "source": [
    "#### 8.7.4 Selected Patterns\n",
    "\n",
    "##### Strategy (Patrón de Comportamiento)\n",
    "El patrón Strategy sugiere que tomes esa clase que hace algo específico de muchas formas diferentes y extraigas todos esos algoritmos para colocarlos en clases separadas llamadas estrategias, intercambiables en run time.\n",
    "\n",
    "La clase original, llamada contexto, almacena una referencia a una de las estrategias.\n",
    "\n",
    "El contexto delega el trabajo a un objeto de estrategia vinculado en lugar de ejecutarlo por su cuenta.\n",
    "\n",
    "La clase contexto no es responsable de seleccionar un algoritmo adecuado para la tarea.\n",
    "\n",
    "Veamos un ejemplo de juguete."
   ]
  },
  {
   "cell_type": "code",
   "execution_count": null,
   "id": "05d2a519",
   "metadata": {},
   "outputs": [
    {
     "name": "stdout",
     "output_type": "stream",
     "text": [
      "!!! hago cosas importantes\n",
      "Nadando\n",
      "!!! hago cosas importantes después\n"
     ]
    }
   ],
   "source": [
    "class Moverse:  # context\n",
    "    def __init__(self, animal):\n",
    "        self.strategy = animal\n",
    "    def execute(self):\n",
    "        print(\"!!! hago cosas importantes\")\n",
    "        self.strategy.moverse()\n",
    "        print(\"!!! hago cosas importantes después\")\n",
    "\n",
    "# strategies =========================================\n",
    "import abc\n",
    "        \n",
    "class StrategyABC(abc.ABC):\n",
    "    @abc.abstractmethod\n",
    "    def moverse(self): ...\n",
    "    \n",
    "class Perro(StrategyABC):\n",
    "    def moverse(self):\n",
    "        print(\"Camino en cuatro patas\")\n",
    "        \n",
    "class Pez(StrategyABC):\n",
    "    def moverse(self):\n",
    "        print(\"Nadando\")\n",
    "        \n",
    "        \n",
    "ctx = Moverse(Pez())\n",
    "ctx.execute()\n",
    "# Notar que en cualquier momento podría cambiar de estrategia\n",
    "# ctx.strategy = Perro()"
   ]
  },
  {
   "cell_type": "code",
   "execution_count": 7,
   "id": "ca879654",
   "metadata": {},
   "outputs": [
    {
     "name": "stdout",
     "output_type": "stream",
     "text": [
      "!!! hago cosas importantes\n",
      "Camino en cuatro patas\n",
      "!!! hago cosas importantes después\n"
     ]
    }
   ],
   "source": [
    "ctx2 = Moverse(Perro())\n",
    "ctx2.execute()"
   ]
  },
  {
   "cell_type": "markdown",
   "id": "c89fcb18",
   "metadata": {},
   "source": [
    "En un lenguaje moderno como Python, muchos de los patrones originales del libro de the gang of four son triviales de implementar. En particular, el patrón strategy tiene una implementación directa, ya que las funciones son objetos."
   ]
  },
  {
   "cell_type": "code",
   "execution_count": 10,
   "id": "a768071e",
   "metadata": {},
   "outputs": [
    {
     "name": "stdout",
     "output_type": "stream",
     "text": [
      "!!! hago cosas importantes\n",
      "Nadando\n",
      "!!! hago cosas importantes después\n"
     ]
    }
   ],
   "source": [
    "def moverse(strategy):\n",
    "    print(\"!!! hago cosas importantes\")\n",
    "    strategy()\n",
    "    print(\"!!! hago cosas importantes después\")\n",
    "\n",
    "# strategies =========================================\n",
    "   \n",
    "def moverse_como_perro():\n",
    "    print(\"Camino en cuatro patas\")\n",
    "        \n",
    "def moverse_como_pez():\n",
    "    print(\"Nadando\")\n",
    "        \n",
    "moverse(moverse_como_pez)"
   ]
  },
  {
   "cell_type": "code",
   "execution_count": 11,
   "id": "c3867036",
   "metadata": {},
   "outputs": [
    {
     "name": "stdout",
     "output_type": "stream",
     "text": [
      "!!! hago cosas importantes\n",
      "Camino en cuatro patas\n",
      "!!! hago cosas importantes después\n"
     ]
    }
   ],
   "source": [
    "moverse(moverse_como_perro)"
   ]
  },
  {
   "cell_type": "markdown",
   "id": "b87a7b20",
   "metadata": {},
   "source": [
    "El ejemplo más minimalista que se me ocurre es algo del siguiente estilo"
   ]
  },
  {
   "cell_type": "code",
   "execution_count": 18,
   "id": "4af2f98d",
   "metadata": {},
   "outputs": [
    {
     "name": "stdout",
     "output_type": "stream",
     "text": [
      "5\n",
      "6\n"
     ]
    }
   ],
   "source": [
    "def add(x, y): return x + y\n",
    "def mul(x, y): return x * y\n",
    "\n",
    "def apply_strategy(strategy, a, b):\n",
    "    return strategy(a, b)\n",
    "\n",
    "print(apply_strategy(add, 2, 3))  # 5\n",
    "print(apply_strategy(mul, 2, 3))  # 6\n"
   ]
  },
  {
   "cell_type": "markdown",
   "id": "10ea6bdf",
   "metadata": {},
   "source": [
    "Veamos un ejemplo un poco menos de juguete, o al menos un poco más relevante. (Uso clases para poder imponer una interfaz.)"
   ]
  },
  {
   "cell_type": "code",
   "execution_count": 17,
   "id": "aece03cd",
   "metadata": {},
   "outputs": [
    {
     "name": "stdout",
     "output_type": "stream",
     "text": [
      "Euler → 0.95\n",
      "RK4   → 0.9512294270833334\n"
     ]
    }
   ],
   "source": [
    "# strategy.py\n",
    "from abc import ABC, abstractmethod\n",
    "import numpy as np\n",
    "\n",
    "class Integrator(ABC):\n",
    "    @abstractmethod\n",
    "    def integrate(self, f, y0, t0, dt): ...\n",
    "\n",
    "class EulerIntegrator(Integrator):\n",
    "    def integrate(self, f, y0, t0, dt):\n",
    "        return y0 + dt * f(y0, t0)\n",
    "\n",
    "class RK4Integrator(Integrator):\n",
    "    def integrate(self, f, y0, t0, dt):\n",
    "        k1 = f(y0, t0)\n",
    "        k2 = f(y0 + 0.5*dt*k1, t0 + 0.5*dt)\n",
    "        k3 = f(y0 + 0.5*dt*k2, t0 + 0.5*dt)\n",
    "        k4 = f(y0 + dt*k3, t0 + dt)\n",
    "        return y0 + dt*(k1 + 2*k2 + 2*k3 + k4)/6\n",
    "\n",
    "class ODESimulation:\n",
    "    def __init__(self, f, integrator: Integrator):\n",
    "        self.f = f\n",
    "        self.integrator = integrator\n",
    "\n",
    "    def step(self, y, t, dt):\n",
    "        return self.integrator.integrate(self.f, y, t, dt)\n",
    "\n",
    "# usage\n",
    "if __name__ == \"__main__\":\n",
    "    def simple_decay(y, t): return -0.5 * y\n",
    "    sim_euler = ODESimulation(simple_decay, EulerIntegrator())\n",
    "    sim_rk4   = ODESimulation(simple_decay, RK4Integrator())\n",
    "\n",
    "    y0, t0, dt = 1.0, 0.0, 0.1\n",
    "    print(\"Euler →\", sim_euler.step(y0, t0, dt))\n",
    "    print(\"RK4   →\", sim_rk4.step(y0, t0, dt))\n"
   ]
  },
  {
   "cell_type": "markdown",
   "id": "f94b564b",
   "metadata": {},
   "source": [
    "Algo a destacar de este patrón es que es uno de los tantos abusados por el stack científico.\n",
    "\n",
    "**Ejemplo:**  scipy"
   ]
  },
  {
   "cell_type": "code",
   "execution_count": 12,
   "id": "54df4dfb",
   "metadata": {},
   "outputs": [],
   "source": [
    "from scipy.spatial import distance"
   ]
  },
  {
   "cell_type": "code",
   "execution_count": 13,
   "id": "34303f0d",
   "metadata": {},
   "outputs": [
    {
     "data": {
      "text/plain": [
       "array([[33.67491648]])"
      ]
     },
     "execution_count": 13,
     "metadata": {},
     "output_type": "execute_result"
    }
   ],
   "source": [
    "distance.cdist([[1,2,3]], [[10, 20, 30]])"
   ]
  },
  {
   "cell_type": "code",
   "execution_count": 14,
   "id": "d344bd66",
   "metadata": {},
   "outputs": [
    {
     "data": {
      "text/plain": [
       "array([[1.]])"
      ]
     },
     "execution_count": 14,
     "metadata": {},
     "output_type": "execute_result"
    }
   ],
   "source": [
    "distance.cdist([[1,2,3]], [[10, 20, 30]], metric=\"hamming\")\n"
   ]
  },
  {
   "cell_type": "code",
   "execution_count": 15,
   "id": "3e047859",
   "metadata": {},
   "outputs": [
    {
     "data": {
      "text/plain": [
       "array([[54.]])"
      ]
     },
     "execution_count": 15,
     "metadata": {},
     "output_type": "execute_result"
    }
   ],
   "source": [
    "distance.cdist([[1,2,3]], [[10, 20, 30]], metric=distance.cityblock)"
   ]
  },
  {
   "cell_type": "code",
   "execution_count": 16,
   "id": "a125d400",
   "metadata": {},
   "outputs": [
    {
     "data": {
      "text/plain": [
       "array([[42.]])"
      ]
     },
     "execution_count": 16,
     "metadata": {},
     "output_type": "execute_result"
    }
   ],
   "source": [
    "def mi_distancia(u, v, w=None):\n",
    "    return 42\n",
    "\n",
    "distance.cdist([[1,2,3]], [[10, 20, 30]], metric=mi_distancia)"
   ]
  },
  {
   "cell_type": "markdown",
   "id": "64351f36",
   "metadata": {},
   "source": [
    "**Pro's:**\n",
    "- Podés intercambiar los algoritmos usados dentro de un objeto durante el tiempo de ejecución.\n",
    "- Podés aislar los detalles de implementación de un algoritmo, del código que lo utiliza.\n",
    "- Podemos sustituir herencia por composición.\n",
    "- Cumple principio Open/Close: podemos introducir nuevas estrategias sin tener que cambiar el contexto.\n",
    "\n",
    "**Con's:**\n",
    "- Si sólo tenés un par de algoritmos que raramente cambian, no hay razón real para complicar el programa con las nuevas clases o interfaces que vengan con el patrón.\n",
    "- Los clientes deben conocer las diferencias entre estrategias para poder seleccionar la adecuada.\n",
    "- Muchos lenguajes de programación modernos tienen un soporte de tipo funcional que te permite implementar distintas versiones de un algoritmo dentro de un grupo de funciones anónimas. Esto permite utilizar dichas funciones exactamente como hubiéramos utilizado los objetos estrategia, pero sin las clases e interfaces adicionales.\n",
    "\n",
    "---"
   ]
  },
  {
   "cell_type": "markdown",
   "id": "4bf0768b",
   "metadata": {},
   "source": [
    "##### Factory (Patrón Creacional)\n",
    "El patrón Factory Method sugiere que, en lugar de llamar al operador new para construir objetos directamente, se invoque a un método fábrica especial. Los objetos devueltos por el método fábrica a menudo se denominan productos.\n",
    "\n",
    "Todos los productos deben tener la misma interfaz."
   ]
  },
  {
   "cell_type": "code",
   "execution_count": null,
   "id": "5233d3cb",
   "metadata": {},
   "outputs": [],
   "source": [
    "# Acá me faltó la interfaz “animal”\n",
    "\n",
    "class Dog:\n",
    "    def speak(self): return \"woof\"\n",
    "\n",
    "class Cat:\n",
    "    def speak(self): return \"meow\"\n",
    "\n",
    "def animal_factory(kind):\n",
    "    return {\"dog\": Dog, \"cat\": Cat}[kind]()\n",
    "\n",
    "animal = animal_factory(\"dog\")\n",
    "print(animal.speak())  # woof\n"
   ]
  },
  {
   "cell_type": "markdown",
   "id": "5e286f68",
   "metadata": {},
   "source": [
    "Mostrar `create_output_demux` en `tumorsphere_culture` como ejemplo de uso real como patrón creacional para los objetos output.\n",
    "\n",
    "**Pro's:**\n",
    "- Evitás un acomplamiento fuerte entre el creador y los productos concretos.\n",
    "- Obedece el SRP\n",
    "- Obedece Open/Close Principle: podés incorporar nuevos tipos de productos sin comprometer el código existente.\n",
    "\n",
    "**Con's:**\n",
    "- Puede ser que el código se complique por la introducción de nuevas clases.\n",
    "\n",
    "---"
   ]
  },
  {
   "cell_type": "markdown",
   "id": "49cbef9f",
   "metadata": {},
   "source": [
    "##### The Fluent‐Interface (“Method‐Chaining”) Pattern\n",
    "This might actually be considered an **API design idiom**, but I decided to include it cause it's also widely used in scientific computing, in particular in data science, but also whenever your building pipelines.\n",
    "\n",
    "Intent: have each operation return self (or a new instance) so you can express pipelines in a single, readable chain—just like with Pandas or Matplotlib.\n",
    "\n",
    "Why it matters: your data‐processing or simulation pipelines read like a script, not a nested forest of temporaries."
   ]
  },
  {
   "cell_type": "code",
   "execution_count": null,
   "id": "02e694f6",
   "metadata": {},
   "outputs": [],
   "source": [
    "# Data Processing Pipeline Example\n",
    "import numpy as np\n",
    "\n",
    "class DataPipeline:\n",
    "    def __init__(self, data: np.ndarray):\n",
    "        self.data = data.copy()\n",
    "\n",
    "    def filter_positive(self):\n",
    "        self.data = self.data[self.data > 0]\n",
    "        return self\n",
    "\n",
    "    def normalize(self):\n",
    "        mn, mx = self.data.min(), self.data.max()\n",
    "        self.data = (self.data - mn) / (mx - mn)\n",
    "        return self\n",
    "\n",
    "    def aggregate(self, func):\n",
    "        self._result = func(self.data)\n",
    "        return self\n",
    "\n",
    "    def result(self):\n",
    "        return getattr(self, \"_result\", self.data)\n",
    "\n",
    "if __name__ == \"__main__\":\n",
    "    raw = np.array([3, -1, 0, 5, 2])\n",
    "    res = (DataPipeline(raw)\n",
    "           .filter_positive()\n",
    "           .normalize()\n",
    "           .aggregate(np.mean)\n",
    "           .result())\n",
    "    print(\"Final result:\", res)\n"
   ]
  },
  {
   "cell_type": "markdown",
   "id": "edf94907",
   "metadata": {},
   "source": [
    "Notar que esto es lo que hace `pandas` para que podamos encadenar filtrados, agregados, y procesamientos:"
   ]
  },
  {
   "cell_type": "code",
   "execution_count": null,
   "id": "d705da0c",
   "metadata": {},
   "outputs": [],
   "source": [
    "import pandas as pd\n",
    "\n",
    "df = pd.read_csv(\"data.csv\")\n",
    "df = df.dropna(subset=[\"temperature\"]).assign(temp_C=lambda d: (d.temperature - 32) * 5/9).query(\"temp_C > 20\")\n"
   ]
  },
  {
   "cell_type": "code",
   "execution_count": null,
   "id": "03f98e20",
   "metadata": {},
   "outputs": [],
   "source": [
    "\n",
    "df = (\n",
    "    pd.read_csv(\"measurements.csv\")\n",
    "      .query(\"temperature > 300\")\n",
    "      .groupby(\"material\")[\"stress\"]\n",
    "      .agg([\"mean\", \"std\"])\n",
    "      .reset_index()\n",
    ")\n"
   ]
  },
  {
   "cell_type": "code",
   "execution_count": null,
   "id": "b7406e08",
   "metadata": {},
   "outputs": [],
   "source": [
    "# Image Processing Pipeline Example\n",
    "import numpy as np\n",
    "from skimage.color import rgb2gray\n",
    "from skimage.filters import gaussian\n",
    "from skimage.feature import canny\n",
    "\n",
    "class ImageProcessor:\n",
    "    def __init__(self, img: np.ndarray):\n",
    "        self.img = img.copy()\n",
    "\n",
    "    def to_grayscale(self):\n",
    "        self.img = rgb2gray(self.img)\n",
    "        return self\n",
    "\n",
    "    def blur(self, sigma: float):\n",
    "        self.img = gaussian(self.img, sigma=sigma)\n",
    "        return self\n",
    "\n",
    "    def detect_edges(self):\n",
    "        self.img = canny(self.img)\n",
    "        return self\n",
    "\n",
    "    def get(self) -> np.ndarray:\n",
    "        return self.img\n",
    "\n",
    "# Usage:\n",
    "# raw_img is a (H, W, 3) RGB array\n",
    "processed = (\n",
    "    ImageProcessor(raw_img)\n",
    "      .to_grayscale()     # convert to gray\n",
    "      .blur(sigma=1.5)    # smooth noise\n",
    "      .detect_edges()     # extract contours\n",
    "      .get()              # retrieve result\n",
    ")\n"
   ]
  },
  {
   "cell_type": "markdown",
   "id": "56d74777",
   "metadata": {},
   "source": [
    "#### The Mixin Pattern (Patrón Creacional)\n",
    "(Sólo por mostrar un patrón un poquito más avanzado.)\n",
    "\n",
    "Supongamos que estamos creando clases para distintos compuestos químicos. Los compuestos tienen unas pocas propiedades distintivas. Sin embargo, el número total de compuestos posibles es el número de combinaciones de estas propiedades. Como este número es grande, queremos evitar de alguna manera el tener que crear una clase por compuesto.\n",
    "\n",
    "El patrón Mixin nos sugiere que si hay algo como “una descomposición ortogonal” del total de objetos en estas propiedades, podemos crear as needed los compuestos via herencia múltiple de las propiedades."
   ]
  },
  {
   "cell_type": "code",
   "execution_count": 19,
   "id": "e82143ea",
   "metadata": {},
   "outputs": [],
   "source": [
    "class PropertyMixin:\n",
    "    @classmethod\n",
    "    def get_properties(cls):\n",
    "        return []\n",
    "\n",
    "class FlammableMixin(PropertyMixin):\n",
    "    @classmethod\n",
    "    def get_properties(cls):\n",
    "        return [\"flammable\"]\n",
    "\n",
    "class ToxicMixin(PropertyMixin):\n",
    "    @classmethod\n",
    "    def get_properties(cls):\n",
    "        return [\"toxic\"]\n",
    "\n",
    "class CorrosiveMixin(PropertyMixin):\n",
    "    @classmethod\n",
    "    def get_properties(cls):\n",
    "        return [\"corrosive\"]\n",
    "\n",
    "class Chemical:\n",
    "    def __init__(self, name):\n",
    "        self.name = name\n",
    "\n",
    "    def describe(self):\n",
    "        props = set()\n",
    "        for cls in self.__class__.mro():\n",
    "            if hasattr(cls, \"get_properties\"):\n",
    "                props.update(cls.get_properties())\n",
    "        return f\"{self.name} is: {', '.join(props) or 'inert'}.\"\n"
   ]
  },
  {
   "cell_type": "code",
   "execution_count": 20,
   "id": "a5e05b47",
   "metadata": {},
   "outputs": [
    {
     "name": "stdout",
     "output_type": "stream",
     "text": [
      "Ethanol is: flammable.\n",
      "HCl is: toxic, corrosive.\n",
      "Water is: inert.\n"
     ]
    }
   ],
   "source": [
    "class Ethanol(FlammableMixin, Chemical): pass\n",
    "class HydrochloricAcid(CorrosiveMixin, ToxicMixin, Chemical): pass\n",
    "class Water(Chemical): pass\n",
    "\n",
    "for chem in [Ethanol(\"Ethanol\"), HydrochloricAcid(\"HCl\"), Water(\"Water\")]:\n",
    "    print(chem.describe())\n"
   ]
  },
  {
   "cell_type": "markdown",
   "id": "b5f6d485",
   "metadata": {},
   "source": [
    "Note: The **Method Resolution Order** is a list of all classes that Python will search in order when looking for methods and attributes on an object. It includes the class itself, its parents, their parents, and so on, up to `object`."
   ]
  },
  {
   "cell_type": "code",
   "execution_count": 21,
   "id": "33faff73",
   "metadata": {},
   "outputs": [
    {
     "data": {
      "text/plain": [
       "(__main__.Ethanol,\n",
       " __main__.FlammableMixin,\n",
       " __main__.PropertyMixin,\n",
       " __main__.Chemical,\n",
       " object)"
      ]
     },
     "execution_count": 21,
     "metadata": {},
     "output_type": "execute_result"
    }
   ],
   "source": [
    "Ethanol.__mro__"
   ]
  },
  {
   "cell_type": "markdown",
   "id": "a8ab2bac",
   "metadata": {},
   "source": [
    "References:\n",
    "- (Book) Dive into Design Patterns, by Alexander Shvets.\n",
    "- (Course) Software Design for Scientific Computing, by Juan Cabral.\n",
    "\n",
    "\n",
    "\n",
    "Something I wish I had included: Quality for Machine Learning and Patterns for Data Science and Interactive Computing."
   ]
  },
  {
   "cell_type": "markdown",
   "id": "1f79e4ca",
   "metadata": {},
   "source": []
  }
 ],
 "metadata": {
  "kernelspec": {
   "display_name": "sft_dev_seminar",
   "language": "python",
   "name": "python3"
  },
  "language_info": {
   "codemirror_mode": {
    "name": "ipython",
    "version": 3
   },
   "file_extension": ".py",
   "mimetype": "text/x-python",
   "name": "python",
   "nbconvert_exporter": "python",
   "pygments_lexer": "ipython3",
   "version": "3.12.10"
  }
 },
 "nbformat": 4,
 "nbformat_minor": 5
}

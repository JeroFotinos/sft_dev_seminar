{
 "cells": [
  {
   "cell_type": "markdown",
   "id": "21ba52ef",
   "metadata": {},
   "source": [
    "# Seminar on Software Developmenet Tools\n",
    "The first sections will be about quality, and the last one will deal with design."
   ]
  },
  {
   "cell_type": "markdown",
   "id": "ea91d03c",
   "metadata": {},
   "source": [
    "## 0. Coding Environments\n",
    "Running python from the terminal, running ipython, running jupyter notebook. There's a place for interactive computing. Do not marry your tools: don't use a hammer with a screw."
   ]
  },
  {
   "cell_type": "markdown",
   "id": "77223277",
   "metadata": {},
   "source": [
    "## 1. Debbuging\n",
    "Go through the examples on `./debugging`; follow the instructions on the `README.md` if needed."
   ]
  },
  {
   "cell_type": "markdown",
   "id": "776c2aa3",
   "metadata": {},
   "source": [
    "## 2. Virtual Environment\n",
    "Show `virtualenv`, `virtualenvwrapper` and difference in numpy versions with this repo and `complex_opinion`.\n",
    "\n",
    "Use:\n",
    "```bash\n",
    "pip show numpy | grep ^Version\n",
    "```\n",
    "\n",
    "**Note:** The caret `^` in the command is a *regular expression anchor* that matches the *start of a line*, i.e., in this case `grep ^Version` matches any line that starts with the word `Version`.\n",
    "\n",
    "The idea is to show that we can have different versions of `numpy` coexisting in our computer thanks to having multiple virtual environments."
   ]
  },
  {
   "cell_type": "markdown",
   "id": "406321c4",
   "metadata": {},
   "source": [
    "## 2. Version Control\n",
    "Show Git with `complex_opinion`. Delete some piece of code and show `status`, `diff`, and `restore`. Mention `log`, `pull`, and `branch`, and the fact that you can always go back to any point in history. Mention it's joint use with LaTeX for writing a paper, in particular the use of branches and `diff` for seeing changes and merging if agreed."
   ]
  },
  {
   "cell_type": "markdown",
   "id": "b062d83f",
   "metadata": {},
   "source": [
    "## 3. GitHub\n",
    "A Hub for Git repositories. That's how we can get other people's code and colaborate between us (think of papers). Show PyPI too."
   ]
  },
  {
   "cell_type": "markdown",
   "id": "4e47d12f",
   "metadata": {},
   "source": [
    "## 4. Packing\n",
    "Useful for having your code available as third-party packages (explain editable installation: `pip install --editable .`), publishing in PyPI, and for **portability**, e.g., running in a cluster. In this last case, we just install micromamba, create the invironment, and do `pip install paquete.whl`. Show `dist` directory in `tumorsphere_culture`.\n",
    "\n",
    "For packing:\n",
    "1. Install everything necessary `pip install --upgrade build`\n",
    "2. Build with `python3 -m build`\n",
    "\n",
    "This will generate the files for distribution: `.tar.gz` for source distribution and `.whl` for built distribution.\n",
    "\n",
    "Explain:\n",
    "- `MANIFEST.in`\n",
    "- `pyproject.toml`, in particular the part where we declare the dependencies\n",
    "\n",
    "Note: if you're not distributing (and therefore maintaining) the software, it always a good idea to do a `pip freeze > requirements.txt` to be able to go back to the original package versions."
   ]
  },
  {
   "cell_type": "markdown",
   "id": "ef3c6325",
   "metadata": {},
   "source": [
    "## 5. Testing\n",
    "It's useless as quality assurance that “you wrote the code yourself and know how it works”. How do **I** know that it works? Tests are things that we check about the behavior of our code. By seeing which tests pass, I can get some level of assurance on the correctness of the code.\n",
    "\n",
    "Show example in the `testing` directory: `pytest -v test_math_utils.py`. This are examples of “unit tests”, tests that check a single instance of a property.\n",
    "\n",
    "Integration tests check the fuctioning of the system as a hole, not just of a single part. E.g., I could have checked that both my `Cell` and `Culture` objects are instanced correctly, but have my simulation do something wrong with them. See [meme](https://images.app.goo.gl/vH7UYtYb4a9cDsrM8).\n",
    "\n",
    "An example of an integration test could be to reproduce a previous result which we trust. Show tests in `complex_opinion`. We check single properties of errors that should be rise when inappropriately instantiating objects (unit tests), but then we check that Mahdi's results are reproduced (integration tests). Use: `pytest -v tests/ --cov complex_opinion/ -m \"not slow\"`.\n",
    "\n",
    "Note that the deselected tests are parametrized (explain that).\n",
    "\n",
    "### Coverage\n",
    "In general, one should test extensively. We can measure the percentage of lines (and logical branches) that are tested by our code. Show `margin`."
   ]
  },
  {
   "cell_type": "markdown",
   "id": "fc6e1354",
   "metadata": {},
   "source": [
    "### Property-Based Testing\n",
    "There are many more advanced types of testing. I'm just gonna show PBT here, which consists on trying to enforce a general property which is automatically challenged by dynamically generated unit tests. This test cases are generated with the `strategy` object provided by `hypothesis`, and try to find limit and pathological cases.\n",
    "\n",
    "E.g., we can test symmetry for a given distance (try to avoid looking at the distance function, it's none of your business).\n",
    "\n",
    "What's interesting about `hypothesis` is that not only tries test cases we wouldn't try, but it also can reduce counterexamples to a minimal case that's returned to the user: show summation function example.\n",
    "\n",
    "### Mutation Testing\n",
    "Do not show (it's too slow), just comment."
   ]
  },
  {
   "cell_type": "markdown",
   "id": "09476e69",
   "metadata": {},
   "source": [
    "## 6. Tox (Orchestration)\n",
    "The solution to “it works on my machine...”\n",
    "\n",
    "Run `tox` in `complex_opinion`. Show how a package can work with some Python versions and not with others (e.g., due to attempting to use the warlus with an eralier version than 3.8)."
   ]
  },
  {
   "cell_type": "markdown",
   "id": "efab5a29",
   "metadata": {},
   "source": [
    "## 7. Design"
   ]
  }
 ],
 "metadata": {
  "kernelspec": {
   "display_name": "sft_dev_seminar",
   "language": "python",
   "name": "python3"
  },
  "language_info": {
   "name": "python",
   "version": "3.12.11"
  }
 },
 "nbformat": 4,
 "nbformat_minor": 5
}
